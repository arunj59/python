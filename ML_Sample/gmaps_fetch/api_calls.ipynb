{
 "cells": [
  {
   "cell_type": "code",
   "execution_count": 1,
   "metadata": {},
   "outputs": [],
   "source": [
    "import requests"
   ]
  },
  {
   "cell_type": "code",
   "execution_count": 2,
   "metadata": {},
   "outputs": [],
   "source": [
    "def get_my_ip_info():\n",
    "    d = requests.get('http://ipinfo.io/json').json()\n",
    "    ip = d['ip']\n",
    "    city = d['city']\n",
    "    region = d['region']\n",
    "    loc = d['loc']\n",
    "    return (ip, city, region, loc)"
   ]
  },
  {
   "cell_type": "code",
   "execution_count": 8,
   "metadata": {},
   "outputs": [],
   "source": [
    "def city_loc(cname):\n",
    "    parameters = 'address='+cname\n",
    "    url = 'http://maps.googleapis.com/maps/api/geocode/json'\n",
    "    \n",
    "    r = requests.get(url, parameters).json()\n",
    "    location = r['results'][0]['geometry']['location']\n",
    "    latitude = location['lat']\n",
    "    longitude = location['lng']\n",
    "    \n",
    "    return (latitude,longitude)"
   ]
  },
  {
   "cell_type": "code",
   "execution_count": 4,
   "metadata": {},
   "outputs": [],
   "source": [
    "#Weather requires API KEY i.e. authentication"
   ]
  },
  {
   "cell_type": "code",
   "execution_count": 12,
   "metadata": {},
   "outputs": [
    {
     "name": "stdout",
     "output_type": "stream",
     "text": [
      "Location : 183.82.16.138 \n",
      "city : Bengaluru \n",
      "region : Karnataka \n",
      "loc=12.9833,77.5833\n"
     ]
    }
   ],
   "source": [
    "ip, city, region, loc = get_my_ip_info()\n",
    "print('Location : {0} \\ncity : {1} \\nregion : {2} \\nloc={3}'.format(ip, city,region,loc))"
   ]
  },
  {
   "cell_type": "code",
   "execution_count": 11,
   "metadata": {},
   "outputs": [
    {
     "name": "stdout",
     "output_type": "stream",
     "text": [
      "Location : Bengaluru \n",
      "Latitude : 12.9715987 \n",
      "Longitude : 77.5945627\n"
     ]
    }
   ],
   "source": [
    "cname = 'Bengaluru'\n",
    "latitude, longitude = city_loc(cname)\n",
    "print('Location : {0} \\nLatitude : {1} \\nLongitude : {2}'.format(cname, latitude,longitude))"
   ]
  }
 ],
 "metadata": {
  "kernelspec": {
   "display_name": "Python 3",
   "language": "python",
   "name": "python3"
  },
  "language_info": {
   "codemirror_mode": {
    "name": "ipython",
    "version": 3
   },
   "file_extension": ".py",
   "mimetype": "text/x-python",
   "name": "python",
   "nbconvert_exporter": "python",
   "pygments_lexer": "ipython3",
   "version": "3.6.4"
  }
 },
 "nbformat": 4,
 "nbformat_minor": 2
}
